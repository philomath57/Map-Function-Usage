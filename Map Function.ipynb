{
 "cells": [
  {
   "cell_type": "code",
   "execution_count": 2,
   "id": "7bd9d188",
   "metadata": {},
   "outputs": [
    {
     "name": "stdout",
     "output_type": "stream",
     "text": [
      "Normal list is  [1, 2, 3, 4, 5]\n",
      "New list is  [3, 6, 9, 12, 15]\n"
     ]
    }
   ],
   "source": [
    "l = [1,2,3,4,5]\n",
    "print('Normal list is ',l)\n",
    "res = map(lambda x: x+x+x, l)\n",
    "print('New list is ',list(res))"
   ]
  },
  {
   "cell_type": "code",
   "execution_count": null,
   "id": "bbde0f91",
   "metadata": {},
   "outputs": [],
   "source": []
  }
 ],
 "metadata": {
  "kernelspec": {
   "display_name": "Python 3 (ipykernel)",
   "language": "python",
   "name": "python3"
  },
  "language_info": {
   "codemirror_mode": {
    "name": "ipython",
    "version": 3
   },
   "file_extension": ".py",
   "mimetype": "text/x-python",
   "name": "python",
   "nbconvert_exporter": "python",
   "pygments_lexer": "ipython3",
   "version": "3.9.7"
  }
 },
 "nbformat": 4,
 "nbformat_minor": 5
}
